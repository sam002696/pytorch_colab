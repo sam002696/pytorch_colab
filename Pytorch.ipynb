{
  "nbformat": 4,
  "nbformat_minor": 0,
  "metadata": {
    "colab": {
      "provenance": [],
      "toc_visible": true,
      "authorship_tag": "ABX9TyNmcoivk/l7/wC7u62BoT4K",
      "include_colab_link": true
    },
    "kernelspec": {
      "name": "python3",
      "display_name": "Python 3"
    },
    "language_info": {
      "name": "python"
    }
  },
  "cells": [
    {
      "cell_type": "markdown",
      "metadata": {
        "id": "view-in-github",
        "colab_type": "text"
      },
      "source": [
        "<a href=\"https://colab.research.google.com/github/sam002696/pytorch_colab/blob/main/Pytorch.ipynb\" target=\"_parent\"><img src=\"https://colab.research.google.com/assets/colab-badge.svg\" alt=\"Open In Colab\"/></a>"
      ]
    },
    {
      "cell_type": "code",
      "execution_count": null,
      "metadata": {
        "colab": {
          "base_uri": "https://localhost:8080/"
        },
        "id": "M_16ITTy-XPW",
        "outputId": "08dc944e-167b-4445-9beb-2df846cd54fc"
      },
      "outputs": [
        {
          "output_type": "stream",
          "name": "stdout",
          "text": [
            "2.3.0+cu121\n"
          ]
        }
      ],
      "source": [
        "import torch\n",
        "import pandas as pd\n",
        "import numpy as np\n",
        "import matplotlib.pyplot as plt\n",
        "print(torch.__version__)"
      ]
    },
    {
      "cell_type": "markdown",
      "source": [
        "## Intro to Tensors"
      ],
      "metadata": {
        "id": "Wc9kbTuvAwPi"
      }
    },
    {
      "cell_type": "code",
      "source": [
        "# MATRIX\n",
        "MATRIX = torch.tensor([[7,8],\n",
        "                      [9,10]])\n",
        "MATRIX"
      ],
      "metadata": {
        "colab": {
          "base_uri": "https://localhost:8080/"
        },
        "id": "nCUMaNo-A6qu",
        "outputId": "9c7edb72-586c-41ab-dc16-cdd91a631e41"
      },
      "execution_count": null,
      "outputs": [
        {
          "output_type": "execute_result",
          "data": {
            "text/plain": [
              "tensor([[ 7,  8],\n",
              "        [ 9, 10]])"
            ]
          },
          "metadata": {},
          "execution_count": 2
        }
      ]
    },
    {
      "cell_type": "code",
      "source": [
        "MATRIX.ndim\n",
        "MATRIX.shape"
      ],
      "metadata": {
        "colab": {
          "base_uri": "https://localhost:8080/"
        },
        "id": "84aBzbq2DRb5",
        "outputId": "b603079a-c074-47a1-ab1d-8f9328c3e256"
      },
      "execution_count": null,
      "outputs": [
        {
          "output_type": "execute_result",
          "data": {
            "text/plain": [
              "torch.Size([2, 2])"
            ]
          },
          "metadata": {},
          "execution_count": 3
        }
      ]
    },
    {
      "cell_type": "code",
      "source": [
        "MATRIX[1]"
      ],
      "metadata": {
        "colab": {
          "base_uri": "https://localhost:8080/"
        },
        "id": "ehVJqLadDfeL",
        "outputId": "47ecb475-8387-4b73-c0a1-1abf145f9c9d"
      },
      "execution_count": null,
      "outputs": [
        {
          "output_type": "execute_result",
          "data": {
            "text/plain": [
              "tensor([ 9, 10])"
            ]
          },
          "metadata": {},
          "execution_count": 4
        }
      ]
    },
    {
      "cell_type": "code",
      "source": [
        "TENSOR = torch.tensor([[[1,2,3],\n",
        "                       [5,8,9],\n",
        "                       [9,8,1]]])\n",
        "TENSOR"
      ],
      "metadata": {
        "colab": {
          "base_uri": "https://localhost:8080/"
        },
        "id": "CyNFIGr4JGfR",
        "outputId": "13679a68-ca1a-43c6-b003-81c166e84ce7"
      },
      "execution_count": null,
      "outputs": [
        {
          "output_type": "execute_result",
          "data": {
            "text/plain": [
              "tensor([[[1, 2, 3],\n",
              "         [5, 8, 9],\n",
              "         [9, 8, 1]]])"
            ]
          },
          "metadata": {},
          "execution_count": 5
        }
      ]
    },
    {
      "cell_type": "code",
      "source": [
        "TENSOR.ndim"
      ],
      "metadata": {
        "colab": {
          "base_uri": "https://localhost:8080/"
        },
        "id": "IdpQ5oiwJcur",
        "outputId": "7bdfdcff-cc22-4396-b71a-8acb1dc046ac"
      },
      "execution_count": null,
      "outputs": [
        {
          "output_type": "execute_result",
          "data": {
            "text/plain": [
              "3"
            ]
          },
          "metadata": {},
          "execution_count": 6
        }
      ]
    },
    {
      "cell_type": "code",
      "source": [
        "TENSOR.shape"
      ],
      "metadata": {
        "colab": {
          "base_uri": "https://localhost:8080/"
        },
        "id": "GspEuBsDJibv",
        "outputId": "ba04a9c3-49f6-4f28-8c2d-bc7a9c2bae24"
      },
      "execution_count": null,
      "outputs": [
        {
          "output_type": "execute_result",
          "data": {
            "text/plain": [
              "torch.Size([1, 3, 3])"
            ]
          },
          "metadata": {},
          "execution_count": 7
        }
      ]
    },
    {
      "cell_type": "code",
      "source": [
        "MAT_DIMENSION = torch.tensor([[[[[1,7,9],\n",
        "                               [7,8,2],\n",
        "                               [6,1,2]\n",
        "                                 ]]]])\n",
        "MAT_DIMENSION"
      ],
      "metadata": {
        "colab": {
          "base_uri": "https://localhost:8080/"
        },
        "id": "biVtdLWdKdy9",
        "outputId": "c8c5a4d2-d91a-4188-dd37-1489f39a8895"
      },
      "execution_count": null,
      "outputs": [
        {
          "output_type": "execute_result",
          "data": {
            "text/plain": [
              "tensor([[[[[1, 7, 9],\n",
              "           [7, 8, 2],\n",
              "           [6, 1, 2]]]]])"
            ]
          },
          "metadata": {},
          "execution_count": 8
        }
      ]
    },
    {
      "cell_type": "code",
      "source": [
        "MAT_DIMENSION.ndim , MAT_DIMENSION.shape , MAT_DIMENSION[0]"
      ],
      "metadata": {
        "colab": {
          "base_uri": "https://localhost:8080/"
        },
        "id": "lHVu4XXcK5jP",
        "outputId": "7c63c300-2709-4a8f-c26f-7211d6c7907c"
      },
      "execution_count": null,
      "outputs": [
        {
          "output_type": "execute_result",
          "data": {
            "text/plain": [
              "(5,\n",
              " torch.Size([1, 1, 1, 3, 3]),\n",
              " tensor([[[[1, 7, 9],\n",
              "           [7, 8, 2],\n",
              "           [6, 1, 2]]]]))"
            ]
          },
          "metadata": {},
          "execution_count": 9
        }
      ]
    },
    {
      "cell_type": "markdown",
      "source": [
        "**Scalar**"
      ],
      "metadata": {
        "id": "U-5AhEdPVJyh"
      }
    },
    {
      "cell_type": "code",
      "source": [
        "scalar = torch.tensor(7)\n",
        "scalar, scalar.ndim, scalar.shape"
      ],
      "metadata": {
        "colab": {
          "base_uri": "https://localhost:8080/"
        },
        "id": "J9ZXoGkQUsVb",
        "outputId": "4e9d9f74-5c79-4491-8785-c24630ba14e4"
      },
      "execution_count": null,
      "outputs": [
        {
          "output_type": "execute_result",
          "data": {
            "text/plain": [
              "(tensor(7), 0, torch.Size([]))"
            ]
          },
          "metadata": {},
          "execution_count": 10
        }
      ]
    },
    {
      "cell_type": "markdown",
      "source": [
        "**Vectors**"
      ],
      "metadata": {
        "id": "F10L5kXTVbNX"
      }
    },
    {
      "cell_type": "code",
      "source": [
        "vector = torch.tensor([7,6])\n",
        "vector , vector.ndim , vector.shape"
      ],
      "metadata": {
        "colab": {
          "base_uri": "https://localhost:8080/"
        },
        "id": "nxZrNb9MVdY7",
        "outputId": "15a113d7-a721-467e-d8ad-02c18d1441d9"
      },
      "execution_count": null,
      "outputs": [
        {
          "output_type": "execute_result",
          "data": {
            "text/plain": [
              "(tensor([7, 6]), 1, torch.Size([2]))"
            ]
          },
          "metadata": {},
          "execution_count": 11
        }
      ]
    },
    {
      "cell_type": "markdown",
      "source": [
        "**Random Tensors**\n",
        "\n"
      ],
      "metadata": {
        "id": "sfSoNY8LXDAu"
      }
    },
    {
      "cell_type": "code",
      "source": [
        "random_tensor = torch.rand(3,4)\n",
        "random_tensor"
      ],
      "metadata": {
        "colab": {
          "base_uri": "https://localhost:8080/"
        },
        "id": "VyLFAX_YXFsE",
        "outputId": "8ca152b2-f8ee-44ce-9c5d-e18edf3eb64d"
      },
      "execution_count": null,
      "outputs": [
        {
          "output_type": "execute_result",
          "data": {
            "text/plain": [
              "tensor([[0.8698, 0.6722, 0.5841, 0.5290],\n",
              "        [0.7722, 0.4655, 0.4110, 0.6027],\n",
              "        [0.9388, 0.8686, 0.3164, 0.7293]])"
            ]
          },
          "metadata": {},
          "execution_count": 12
        }
      ]
    },
    {
      "cell_type": "markdown",
      "source": [
        "`Image Tensors`"
      ],
      "metadata": {
        "id": "6dlC5v__Y31G"
      }
    },
    {
      "cell_type": "code",
      "source": [
        "# Creating a random tensor of size (224, 224, 3)\n",
        "random_image_size_tensor = torch.rand(size=(224, 224, 3)) # height, width, color channels\n",
        "random_image_size_tensor.shape, random_image_size_tensor.ndim"
      ],
      "metadata": {
        "colab": {
          "base_uri": "https://localhost:8080/"
        },
        "id": "GMR5Hz-pY69b",
        "outputId": "f419e7c5-c2f9-42e3-c8fa-89e86581f986"
      },
      "execution_count": null,
      "outputs": [
        {
          "output_type": "execute_result",
          "data": {
            "text/plain": [
              "(torch.Size([224, 224, 3]), 3)"
            ]
          },
          "metadata": {},
          "execution_count": 13
        }
      ]
    },
    {
      "cell_type": "code",
      "source": [
        "zeros_tensor = torch.zeros(size=[3,4])\n",
        "ones_tensor = torch.ones(size=[1,3,4])\n",
        "\n",
        "\n",
        "zeros_tensor, ones_tensor, zeros_tensor.dtype, ones_tensor.dtype\n",
        "# zeros_tensor * ones_tensor\n"
      ],
      "metadata": {
        "colab": {
          "base_uri": "https://localhost:8080/"
        },
        "id": "PuNokiLxwnPf",
        "outputId": "d1f5664d-7068-45ac-cf3a-a31219fc5c10"
      },
      "execution_count": null,
      "outputs": [
        {
          "output_type": "execute_result",
          "data": {
            "text/plain": [
              "(tensor([[0., 0., 0., 0.],\n",
              "         [0., 0., 0., 0.],\n",
              "         [0., 0., 0., 0.]]),\n",
              " tensor([[[1., 1., 1., 1.],\n",
              "          [1., 1., 1., 1.],\n",
              "          [1., 1., 1., 1.]]]),\n",
              " torch.float32,\n",
              " torch.float32)"
            ]
          },
          "metadata": {},
          "execution_count": 14
        }
      ]
    },
    {
      "cell_type": "code",
      "source": [
        "zeros_tensor * random_tensor"
      ],
      "metadata": {
        "colab": {
          "base_uri": "https://localhost:8080/"
        },
        "id": "CF7GasKJw1qS",
        "outputId": "7529ff18-4981-43a4-d71c-64c7546fb85c"
      },
      "execution_count": null,
      "outputs": [
        {
          "output_type": "execute_result",
          "data": {
            "text/plain": [
              "tensor([[0., 0., 0., 0.],\n",
              "        [0., 0., 0., 0.],\n",
              "        [0., 0., 0., 0.]])"
            ]
          },
          "metadata": {},
          "execution_count": 15
        }
      ]
    },
    {
      "cell_type": "code",
      "source": [
        "tensor1 = torch.tensor([1,4,5])\n",
        "tensor2 = torch.tensor([9,6,3])\n",
        "\n",
        "print(torch.matmul(tensor1, tensor2))"
      ],
      "metadata": {
        "colab": {
          "base_uri": "https://localhost:8080/"
        },
        "id": "N29wSdM77Eyh",
        "outputId": "faf072d2-6b75-42de-88a0-2c68b4ac318f"
      },
      "execution_count": null,
      "outputs": [
        {
          "output_type": "stream",
          "name": "stdout",
          "text": [
            "tensor(48)\n"
          ]
        }
      ]
    },
    {
      "cell_type": "code",
      "source": [
        "tensor_mat1 = torch.rand([3,2])\n",
        "tensor_mat2 = torch.rand([2,3])\n",
        "torch.mm(tensor_mat1 , tensor_mat2)"
      ],
      "metadata": {
        "colab": {
          "base_uri": "https://localhost:8080/"
        },
        "id": "BHIcVC_DKTrI",
        "outputId": "c8417d18-4eb9-4b92-cca0-35c3f5dc815b"
      },
      "execution_count": null,
      "outputs": [
        {
          "output_type": "execute_result",
          "data": {
            "text/plain": [
              "tensor([[0.2179, 0.2404, 0.4312],\n",
              "        [0.7107, 0.5958, 0.8547],\n",
              "        [0.7154, 0.5288, 0.6521]])"
            ]
          },
          "metadata": {},
          "execution_count": 24
        }
      ]
    },
    {
      "cell_type": "code",
      "source": [
        "print(\"hello\")"
      ],
      "metadata": {
        "id": "FRDRpFf4TbR_"
      },
      "execution_count": null,
      "outputs": []
    }
  ]
}