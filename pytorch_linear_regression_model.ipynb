{
  "nbformat": 4,
  "nbformat_minor": 0,
  "metadata": {
    "colab": {
      "provenance": [],
      "gpuType": "T4",
      "include_colab_link": true
    },
    "kernelspec": {
      "name": "python3",
      "display_name": "Python 3"
    },
    "language_info": {
      "name": "python"
    },
    "accelerator": "GPU"
  },
  "cells": [
    {
      "cell_type": "markdown",
      "metadata": {
        "id": "view-in-github",
        "colab_type": "text"
      },
      "source": [
        "<a href=\"https://colab.research.google.com/github/sam002696/pytorch_colab/blob/main/pytorch_linear_regression_model.ipynb\" target=\"_parent\"><img src=\"https://colab.research.google.com/assets/colab-badge.svg\" alt=\"Open In Colab\"/></a>"
      ]
    },
    {
      "cell_type": "markdown",
      "source": [
        "# **Linear Regression Model**\n",
        "\n"
      ],
      "metadata": {
        "id": "N8LsPXZti9Sw"
      }
    },
    {
      "cell_type": "code",
      "source": [
        "# Import necessary libraries\n",
        "import torch\n",
        "from torch import nn\n",
        "import matplotlib.pyplot as plt\n",
        "\n",
        "torch.__version__"
      ],
      "metadata": {
        "id": "Glu2fM4dkNlx",
        "colab": {
          "base_uri": "https://localhost:8080/",
          "height": 36
        },
        "outputId": "7fbb1bf3-9c8a-49a8-900e-5b4e86d61d8a"
      },
      "execution_count": 22,
      "outputs": [
        {
          "output_type": "execute_result",
          "data": {
            "text/plain": [
              "'2.3.0+cu121'"
            ],
            "application/vnd.google.colaboratory.intrinsic+json": {
              "type": "string"
            }
          },
          "metadata": {},
          "execution_count": 22
        }
      ]
    },
    {
      "cell_type": "code",
      "source": [
        "# Setup device-agnostic code\n",
        "device = \"cuda\" if torch.cuda.is_available() else \"cpu\"\n",
        "print(f\"Using device: {device}\")"
      ],
      "metadata": {
        "id": "LqKhXY26m31s",
        "colab": {
          "base_uri": "https://localhost:8080/"
        },
        "outputId": "c3ea41ea-cfe4-42dc-efb8-1dec1d7050a0"
      },
      "execution_count": 2,
      "outputs": [
        {
          "output_type": "stream",
          "name": "stdout",
          "text": [
            "Using device: cuda\n"
          ]
        }
      ]
    },
    {
      "cell_type": "code",
      "source": [
        "# Create the data parameters\n",
        "weight = 0.3\n",
        "bias = 0.9\n",
        "\n",
        "start=0\n",
        "end=1\n",
        "step=0.02\n",
        "\n",
        "# Make X and y using linear regression feature\n",
        "X=torch.arange(start,end,step).unsqueeze(dim=1)\n",
        "\n",
        "y = weight * X + bias\n",
        "\n",
        "print(f\"Number of X samples: {len(X)}\")\n",
        "print(f\"Number of y samples: {len(y)}\")\n",
        "print(f\"First 10 X & y samples:\\nX: {X[:10]}\\ny: {y[:10]}\")"
      ],
      "metadata": {
        "id": "KbDG5MV7jhvE",
        "colab": {
          "base_uri": "https://localhost:8080/"
        },
        "outputId": "6081e072-3b3b-42d3-89cd-08e07854dcc5"
      },
      "execution_count": 3,
      "outputs": [
        {
          "output_type": "stream",
          "name": "stdout",
          "text": [
            "Number of X samples: 50\n",
            "Number of y samples: 50\n",
            "First 10 X & y samples:\n",
            "X: tensor([[0.0000],\n",
            "        [0.0200],\n",
            "        [0.0400],\n",
            "        [0.0600],\n",
            "        [0.0800],\n",
            "        [0.1000],\n",
            "        [0.1200],\n",
            "        [0.1400],\n",
            "        [0.1600],\n",
            "        [0.1800]])\n",
            "y: tensor([[0.9000],\n",
            "        [0.9060],\n",
            "        [0.9120],\n",
            "        [0.9180],\n",
            "        [0.9240],\n",
            "        [0.9300],\n",
            "        [0.9360],\n",
            "        [0.9420],\n",
            "        [0.9480],\n",
            "        [0.9540]])\n"
          ]
        }
      ]
    },
    {
      "cell_type": "code",
      "source": [
        "# Split the data into training and testing\n",
        "train_split = int(0.8 * len(X))\n",
        "X_train, y_train = X[:train_split], y[:train_split]\n",
        "X_test, y_test = X[train_split:], y[train_split:]\n",
        "\n",
        "len(X_train), len(y_train), len(X_test), len(y_test)"
      ],
      "metadata": {
        "id": "GlwtT1djkmLw",
        "colab": {
          "base_uri": "https://localhost:8080/"
        },
        "outputId": "4f79f072-9e7d-4392-fe98-2c2fc8d0dbf8"
      },
      "execution_count": 5,
      "outputs": [
        {
          "output_type": "execute_result",
          "data": {
            "text/plain": [
              "(40, 40, 10, 10)"
            ]
          },
          "metadata": {},
          "execution_count": 5
        }
      ]
    },
    {
      "cell_type": "code",
      "source": [
        "def plot_predictions(train_data=X_train,\n",
        "                     train_labels=y_train,\n",
        "                     test_data=X_test,\n",
        "                     test_labels=y_test,\n",
        "                     predictions=None):\n",
        "  \"\"\"\n",
        "  Plots training data, test data and compares predictions.\n",
        "  \"\"\"\n",
        "  plt.figure(figsize=(10, 7))\n",
        "\n",
        "  # Plot training data in blue\n",
        "  plt.scatter(train_data, train_labels, c=\"b\", s=4, label=\"Training data\")\n",
        "\n",
        "  # Plot test data in green\n",
        "  plt.scatter(test_data, test_labels, c=\"g\", s=4, label=\"Testing data\")\n",
        "\n",
        "  if predictions is not None:\n",
        "    # Plot the predictions in red (predictions were made on the test data)\n",
        "    plt.scatter(test_data, predictions, c=\"r\", s=4, label=\"Predictions\")\n",
        "\n",
        "  # Show the legend\n",
        "  plt.legend(prop={\"size\": 14});"
      ],
      "metadata": {
        "id": "UMeE9ZPr4C3s"
      },
      "execution_count": 6,
      "outputs": []
    },
    {
      "cell_type": "code",
      "source": [
        "# Plot the training and testing data\n",
        "plot_predictions(X_train, y_train, X_test, y_test)"
      ],
      "metadata": {
        "id": "29iQZFNhlYJ-",
        "colab": {
          "base_uri": "https://localhost:8080/",
          "height": 599
        },
        "outputId": "bd2c4b6b-1891-4878-e26b-626493981a20"
      },
      "execution_count": 7,
      "outputs": [
        {
          "output_type": "display_data",
          "data": {
            "text/plain": [
              "<Figure size 1000x700 with 1 Axes>"
            ],
            "image/png": "[encoded data removed]"
          },
          "metadata": {}
        }
      ]
    },
    {
      "cell_type": "code",
      "source": [
        "# Create PyTorch linear regression model by subclassing nn.Module\n",
        "class LinearRegressionModelV2(nn.Module):\n",
        "  def __init__(self):\n",
        "    super().__init__()\n",
        "    self.linear_layer = nn.Linear(in_features=1,\n",
        "                                      out_features=1)\n",
        "  def forward(self, x: torch.Tensor) -> torch.Tensor:\n",
        "        return self.linear_layer(x)\n",
        "\n",
        "torch.manual_seed(42)\n",
        "model_1 = LinearRegressionModelV2()\n",
        "model_1, model_1.state_dict()"
      ],
      "metadata": {
        "id": "qzd__Y5rjtB8",
        "colab": {
          "base_uri": "https://localhost:8080/"
        },
        "outputId": "a7c6e524-690d-4ab4-e2ff-b7103141c1c7"
      },
      "execution_count": 8,
      "outputs": [
        {
          "output_type": "execute_result",
          "data": {
            "text/plain": [
              "(LinearRegressionModelV2(\n",
              "   (linear_layer): Linear(in_features=1, out_features=1, bias=True)\n",
              " ),\n",
              " OrderedDict([('linear_layer.weight', tensor([[0.7645]])),\n",
              "              ('linear_layer.bias', tensor([0.8300]))]))"
            ]
          },
          "metadata": {},
          "execution_count": 8
        }
      ]
    },
    {
      "cell_type": "code",
      "source": [
        "# Instantiate the model and put it to the target device\n",
        "next(model_1.parameters()).device"
      ],
      "metadata": {
        "id": "5LdcDnmOmyQ2",
        "colab": {
          "base_uri": "https://localhost:8080/"
        },
        "outputId": "00366d51-3fdd-4302-c1eb-2e7650674a04"
      },
      "execution_count": 9,
      "outputs": [
        {
          "output_type": "execute_result",
          "data": {
            "text/plain": [
              "device(type='cpu')"
            ]
          },
          "metadata": {},
          "execution_count": 9
        }
      ]
    },
    {
      "cell_type": "code",
      "source": [
        "model_1.to(device)\n",
        "next(model_1.parameters()).device"
      ],
      "metadata": {
        "colab": {
          "base_uri": "https://localhost:8080/"
        },
        "id": "cYjWeMRN6OTc",
        "outputId": "eb7db0ad-2e7b-466b-e0f6-fce910d798ed"
      },
      "execution_count": 10,
      "outputs": [
        {
          "output_type": "execute_result",
          "data": {
            "text/plain": [
              "device(type='cuda', index=0)"
            ]
          },
          "metadata": {},
          "execution_count": 10
        }
      ]
    },
    {
      "cell_type": "code",
      "source": [
        "# Create the loss function and optimizer\n",
        "loss_fn = nn.L1Loss()\n",
        "optimizer = torch.optim.SGD(params=model_1.parameters(),\n",
        "                            lr=0.01)"
      ],
      "metadata": {
        "id": "ltvoZ-FWjv1j"
      },
      "execution_count": 11,
      "outputs": []
    },
    {
      "cell_type": "code",
      "source": [
        "# Training loop\n",
        "torch.manual_seed(42)\n",
        "\n",
        "# Train model for 300 epochs\n",
        "epochs = 300\n",
        "\n",
        "# Send data to target device\n",
        "X_train = X_train.to(device)\n",
        "y_train = y_train.to(device)\n",
        "X_test = X_test.to(device)\n",
        "y_test = y_test.to(device)\n",
        "\n",
        "for epoch in range(epochs):\n",
        "  ### Training\n",
        "\n",
        "  # Put model in train mode\n",
        "   model_1.train()\n",
        "\n",
        "  # 1. Forward pass\n",
        "   y_pred = model_1(X_train)\n",
        "\n",
        "  # 2. Calculate loss\n",
        "   loss = loss_fn(y_pred, y_train)\n",
        "\n",
        "  # 3. Zero gradients\n",
        "   optimizer.zero_grad()\n",
        "\n",
        "\n",
        "  # 4. Backpropagation\n",
        "   loss.backward()\n",
        "\n",
        "  # 5. Step the optimizer\n",
        "   optimizer.step()\n",
        "\n",
        "  ### Perform testing every 20 epochs\n",
        "   if epochs % 20 == 0:\n",
        "\n",
        "    # Put model in evaluation mode and setup inference context\n",
        "\n",
        "      # 1. Forward pass\n",
        "      model_1.eval()\n",
        "      with torch.inference_mode():\n",
        "        test_pred = model_1(X_test)\n",
        "        test_loss = loss_fn(test_pred, y_test)\n",
        "\n",
        "\n",
        "      # Print out what's happening\n",
        "      print(f\"Epoch: {epoch} | Train loss: {loss} | Test loss: {test_loss:.3f}\")\n",
        ""
      ],
      "metadata": {
        "id": "xpE83NvNnkdV",
        "colab": {
          "base_uri": "https://localhost:8080/"
        },
        "outputId": "1a977082-4589-429c-a017-32d5693b0e8b"
      },
      "execution_count": 12,
      "outputs": [
        {
          "output_type": "stream",
          "name": "stdout",
          "text": [
            "Epoch: 0 | Train loss: 0.12616769969463348 | Test loss: 0.334\n",
            "Epoch: 1 | Train loss: 0.12136950343847275 | Test loss: 0.326\n",
            "Epoch: 2 | Train loss: 0.11709137260913849 | Test loss: 0.317\n",
            "Epoch: 3 | Train loss: 0.11307823657989502 | Test loss: 0.309\n",
            "Epoch: 4 | Train loss: 0.10948371887207031 | Test loss: 0.301\n",
            "Epoch: 5 | Train loss: 0.10633647441864014 | Test loss: 0.294\n",
            "Epoch: 6 | Train loss: 0.10335826128721237 | Test loss: 0.287\n",
            "Epoch: 7 | Train loss: 0.1007085070014 | Test loss: 0.280\n",
            "Epoch: 8 | Train loss: 0.09826184809207916 | Test loss: 0.274\n",
            "Epoch: 9 | Train loss: 0.09606341272592545 | Test loss: 0.268\n",
            "Epoch: 10 | Train loss: 0.09406197816133499 | Test loss: 0.262\n",
            "Epoch: 11 | Train loss: 0.0922679752111435 | Test loss: 0.256\n",
            "Epoch: 12 | Train loss: 0.09062370657920837 | Test loss: 0.251\n",
            "Epoch: 13 | Train loss: 0.08918645977973938 | Test loss: 0.246\n",
            "Epoch: 14 | Train loss: 0.0878094956278801 | Test loss: 0.242\n",
            "Epoch: 15 | Train loss: 0.08668049424886703 | Test loss: 0.237\n",
            "Epoch: 16 | Train loss: 0.08555151522159576 | Test loss: 0.233\n",
            "Epoch: 17 | Train loss: 0.08449311554431915 | Test loss: 0.229\n",
            "Epoch: 18 | Train loss: 0.08362295478582382 | Test loss: 0.225\n",
            "Epoch: 19 | Train loss: 0.0827527865767479 | Test loss: 0.222\n",
            "Epoch: 20 | Train loss: 0.08189656585454941 | Test loss: 0.219\n",
            "Epoch: 21 | Train loss: 0.0812348797917366 | Test loss: 0.215\n",
            "Epoch: 22 | Train loss: 0.080573171377182 | Test loss: 0.212\n",
            "Epoch: 23 | Train loss: 0.0799114927649498 | Test loss: 0.209\n",
            "Epoch: 24 | Train loss: 0.07924981415271759 | Test loss: 0.206\n",
            "Epoch: 25 | Train loss: 0.07866178452968597 | Test loss: 0.204\n",
            "Epoch: 26 | Train loss: 0.07815717905759811 | Test loss: 0.201\n",
            "Epoch: 27 | Train loss: 0.07765255868434906 | Test loss: 0.199\n",
            "Epoch: 28 | Train loss: 0.0771479532122612 | Test loss: 0.196\n",
            "Epoch: 29 | Train loss: 0.07664334028959274 | Test loss: 0.194\n",
            "Epoch: 30 | Train loss: 0.0761537179350853 | Test loss: 0.192\n",
            "Epoch: 31 | Train loss: 0.07575373351573944 | Test loss: 0.190\n",
            "Epoch: 32 | Train loss: 0.07535374164581299 | Test loss: 0.189\n",
            "Epoch: 33 | Train loss: 0.07495374977588654 | Test loss: 0.187\n",
            "Epoch: 34 | Train loss: 0.07455375045537949 | Test loss: 0.185\n",
            "Epoch: 35 | Train loss: 0.07415375858545303 | Test loss: 0.183\n",
            "Epoch: 36 | Train loss: 0.07375376671552658 | Test loss: 0.181\n",
            "Epoch: 37 | Train loss: 0.07335376739501953 | Test loss: 0.180\n",
            "Epoch: 38 | Train loss: 0.07295377552509308 | Test loss: 0.178\n",
            "Epoch: 39 | Train loss: 0.07255377620458603 | Test loss: 0.176\n",
            "Epoch: 40 | Train loss: 0.07218801230192184 | Test loss: 0.175\n",
            "Epoch: 41 | Train loss: 0.07183899730443954 | Test loss: 0.174\n",
            "Epoch: 42 | Train loss: 0.07149000465869904 | Test loss: 0.173\n",
            "Epoch: 43 | Train loss: 0.07114099711179733 | Test loss: 0.172\n",
            "Epoch: 44 | Train loss: 0.07079199701547623 | Test loss: 0.171\n",
            "Epoch: 45 | Train loss: 0.07044299691915512 | Test loss: 0.169\n",
            "Epoch: 46 | Train loss: 0.07009399682283401 | Test loss: 0.168\n",
            "Epoch: 47 | Train loss: 0.06974499672651291 | Test loss: 0.167\n",
            "Epoch: 48 | Train loss: 0.0693959966301918 | Test loss: 0.166\n",
            "Epoch: 49 | Train loss: 0.0690469965338707 | Test loss: 0.165\n",
            "Epoch: 50 | Train loss: 0.06869800388813019 | Test loss: 0.164\n",
            "Epoch: 51 | Train loss: 0.06834899634122849 | Test loss: 0.163\n",
            "Epoch: 52 | Train loss: 0.06799998879432678 | Test loss: 0.162\n",
            "Epoch: 53 | Train loss: 0.06765098869800568 | Test loss: 0.161\n",
            "Epoch: 54 | Train loss: 0.06730198115110397 | Test loss: 0.160\n",
            "Epoch: 55 | Train loss: 0.06695298850536346 | Test loss: 0.158\n",
            "Epoch: 56 | Train loss: 0.06660398095846176 | Test loss: 0.157\n",
            "Epoch: 57 | Train loss: 0.06625498086214066 | Test loss: 0.156\n",
            "Epoch: 58 | Train loss: 0.06590598076581955 | Test loss: 0.155\n",
            "Epoch: 59 | Train loss: 0.06555698066949844 | Test loss: 0.154\n",
            "Epoch: 60 | Train loss: 0.06520798057317734 | Test loss: 0.153\n",
            "Epoch: 61 | Train loss: 0.06485898047685623 | Test loss: 0.152\n",
            "Epoch: 62 | Train loss: 0.06450998038053513 | Test loss: 0.151\n",
            "Epoch: 63 | Train loss: 0.06416098028421402 | Test loss: 0.150\n",
            "Epoch: 64 | Train loss: 0.06381197273731232 | Test loss: 0.149\n",
            "Epoch: 65 | Train loss: 0.06346296519041061 | Test loss: 0.147\n",
            "Epoch: 66 | Train loss: 0.06312020123004913 | Test loss: 0.147\n",
            "Epoch: 67 | Train loss: 0.06277777254581451 | Test loss: 0.146\n",
            "Epoch: 68 | Train loss: 0.06243119388818741 | Test loss: 0.146\n",
            "Epoch: 69 | Train loss: 0.06209256127476692 | Test loss: 0.144\n",
            "Epoch: 70 | Train loss: 0.061743564903736115 | Test loss: 0.143\n",
            "Epoch: 71 | Train loss: 0.0614059753715992 | Test loss: 0.143\n",
            "Epoch: 72 | Train loss: 0.06105836108326912 | Test loss: 0.142\n",
            "Epoch: 73 | Train loss: 0.06071695685386658 | Test loss: 0.141\n",
            "Epoch: 74 | Train loss: 0.060373157262802124 | Test loss: 0.140\n",
            "Epoch: 75 | Train loss: 0.060027945786714554 | Test loss: 0.140\n",
            "Epoch: 76 | Train loss: 0.059687960892915726 | Test loss: 0.139\n",
            "Epoch: 77 | Train loss: 0.05933895334601402 | Test loss: 0.138\n",
            "Epoch: 78 | Train loss: 0.05900272727012634 | Test loss: 0.137\n",
            "Epoch: 79 | Train loss: 0.05865374952554703 | Test loss: 0.136\n",
            "Epoch: 80 | Train loss: 0.05831371620297432 | Test loss: 0.136\n",
            "Epoch: 81 | Train loss: 0.05796855315566063 | Test loss: 0.135\n",
            "Epoch: 82 | Train loss: 0.057624705135822296 | Test loss: 0.134\n",
            "Epoch: 83 | Train loss: 0.057283349335193634 | Test loss: 0.133\n",
            "Epoch: 84 | Train loss: 0.056935686618089676 | Test loss: 0.133\n",
            "Epoch: 85 | Train loss: 0.05659813806414604 | Test loss: 0.132\n",
            "Epoch: 86 | Train loss: 0.056249141693115234 | Test loss: 0.130\n",
            "Epoch: 87 | Train loss: 0.055910468101501465 | Test loss: 0.130\n",
            "Epoch: 88 | Train loss: 0.05556393787264824 | Test loss: 0.129\n",
            "Epoch: 89 | Train loss: 0.05522146448493004 | Test loss: 0.129\n",
            "Epoch: 90 | Train loss: 0.05487873777747154 | Test loss: 0.127\n",
            "Epoch: 91 | Train loss: 0.05453244596719742 | Test loss: 0.127\n",
            "Epoch: 92 | Train loss: 0.05419353395700455 | Test loss: 0.126\n",
            "Epoch: 93 | Train loss: 0.05384453758597374 | Test loss: 0.125\n",
            "Epoch: 94 | Train loss: 0.053507234901189804 | Test loss: 0.124\n",
            "Epoch: 95 | Train loss: 0.05315932631492615 | Test loss: 0.123\n",
            "Epoch: 96 | Train loss: 0.052818216383457184 | Test loss: 0.123\n",
            "Epoch: 97 | Train loss: 0.05247412249445915 | Test loss: 0.122\n",
            "Epoch: 98 | Train loss: 0.05212920531630516 | Test loss: 0.121\n",
            "Epoch: 99 | Train loss: 0.051788922399282455 | Test loss: 0.120\n",
            "Epoch: 100 | Train loss: 0.051440197974443436 | Test loss: 0.120\n",
            "Epoch: 101 | Train loss: 0.05110372230410576 | Test loss: 0.119\n",
            "Epoch: 102 | Train loss: 0.05075472220778465 | Test loss: 0.118\n",
            "Epoch: 103 | Train loss: 0.050414975732564926 | Test loss: 0.117\n",
            "Epoch: 104 | Train loss: 0.05006951093673706 | Test loss: 0.116\n",
            "Epoch: 105 | Train loss: 0.049725960940122604 | Test loss: 0.116\n",
            "Epoch: 106 | Train loss: 0.049384307116270065 | Test loss: 0.115\n",
            "Epoch: 107 | Train loss: 0.04903694987297058 | Test loss: 0.114\n",
            "Epoch: 108 | Train loss: 0.04869911074638367 | Test loss: 0.113\n",
            "Epoch: 109 | Train loss: 0.048350103199481964 | Test loss: 0.112\n",
            "Epoch: 110 | Train loss: 0.04801172763109207 | Test loss: 0.112\n",
            "Epoch: 111 | Train loss: 0.047664910554885864 | Test loss: 0.110\n",
            "Epoch: 112 | Train loss: 0.04732271656394005 | Test loss: 0.110\n",
            "Epoch: 113 | Train loss: 0.04697969928383827 | Test loss: 0.109\n",
            "Epoch: 114 | Train loss: 0.046633701771497726 | Test loss: 0.109\n",
            "Epoch: 115 | Train loss: 0.046294499188661575 | Test loss: 0.107\n",
            "Epoch: 116 | Train loss: 0.04594549164175987 | Test loss: 0.106\n",
            "Epoch: 117 | Train loss: 0.045608486980199814 | Test loss: 0.106\n",
            "Epoch: 118 | Train loss: 0.04526028782129288 | Test loss: 0.105\n",
            "Epoch: 119 | Train loss: 0.04491947963833809 | Test loss: 0.104\n",
            "Epoch: 120 | Train loss: 0.04457508772611618 | Test loss: 0.103\n",
            "Epoch: 121 | Train loss: 0.044230472296476364 | Test loss: 0.103\n",
            "Epoch: 122 | Train loss: 0.043889887630939484 | Test loss: 0.102\n",
            "Epoch: 123 | Train loss: 0.04354145750403404 | Test loss: 0.101\n",
            "Epoch: 124 | Train loss: 0.04320467635989189 | Test loss: 0.100\n",
            "Epoch: 125 | Train loss: 0.042855676263570786 | Test loss: 0.099\n",
            "Epoch: 126 | Train loss: 0.04251623526215553 | Test loss: 0.099\n",
            "Epoch: 127 | Train loss: 0.042170483618974686 | Test loss: 0.098\n",
            "Epoch: 128 | Train loss: 0.04182722046971321 | Test loss: 0.097\n",
            "Epoch: 129 | Train loss: 0.04148528724908829 | Test loss: 0.096\n",
            "Epoch: 130 | Train loss: 0.04113820940256119 | Test loss: 0.096\n",
            "Epoch: 131 | Train loss: 0.040800075978040695 | Test loss: 0.095\n",
            "Epoch: 132 | Train loss: 0.04045106843113899 | Test loss: 0.094\n",
            "Epoch: 133 | Train loss: 0.040112994611263275 | Test loss: 0.093\n",
            "Epoch: 134 | Train loss: 0.039765868335962296 | Test loss: 0.092\n",
            "Epoch: 135 | Train loss: 0.03942397981882095 | Test loss: 0.092\n",
            "Epoch: 136 | Train loss: 0.0390806645154953 | Test loss: 0.090\n",
            "Epoch: 137 | Train loss: 0.03873496875166893 | Test loss: 0.090\n",
            "Epoch: 138 | Train loss: 0.038395464420318604 | Test loss: 0.089\n",
            "Epoch: 139 | Train loss: 0.038046449422836304 | Test loss: 0.088\n",
            "Epoch: 140 | Train loss: 0.037709739059209824 | Test loss: 0.087\n",
            "Epoch: 141 | Train loss: 0.0373612605035305 | Test loss: 0.086\n",
            "Epoch: 142 | Train loss: 0.037020742893218994 | Test loss: 0.086\n",
            "Epoch: 143 | Train loss: 0.03667605668306351 | Test loss: 0.085\n",
            "Epoch: 144 | Train loss: 0.036331720650196075 | Test loss: 0.084\n",
            "Epoch: 145 | Train loss: 0.03599085286259651 | Test loss: 0.083\n",
            "Epoch: 146 | Train loss: 0.03564270958304405 | Test loss: 0.083\n",
            "Epoch: 147 | Train loss: 0.03530563414096832 | Test loss: 0.082\n",
            "Epoch: 148 | Train loss: 0.034956637769937515 | Test loss: 0.081\n",
            "Epoch: 149 | Train loss: 0.03461749479174614 | Test loss: 0.080\n",
            "Epoch: 150 | Train loss: 0.034271448850631714 | Test loss: 0.079\n",
            "Epoch: 151 | Train loss: 0.033928483724594116 | Test loss: 0.079\n",
            "Epoch: 152 | Train loss: 0.03358624130487442 | Test loss: 0.078\n",
            "Epoch: 153 | Train loss: 0.033239465206861496 | Test loss: 0.077\n",
            "Epoch: 154 | Train loss: 0.03290104120969772 | Test loss: 0.076\n",
            "Epoch: 155 | Train loss: 0.03255204111337662 | Test loss: 0.075\n",
            "Epoch: 156 | Train loss: 0.03221425041556358 | Test loss: 0.075\n",
            "Epoch: 157 | Train loss: 0.03186683729290962 | Test loss: 0.074\n",
            "Epoch: 158 | Train loss: 0.031525254249572754 | Test loss: 0.073\n",
            "Epoch: 159 | Train loss: 0.031181633472442627 | Test loss: 0.072\n",
            "Epoch: 160 | Train loss: 0.03083622455596924 | Test loss: 0.072\n",
            "Epoch: 161 | Train loss: 0.030496424064040184 | Test loss: 0.070\n",
            "Epoch: 162 | Train loss: 0.030147431418299675 | Test loss: 0.069\n",
            "Epoch: 163 | Train loss: 0.029811013489961624 | Test loss: 0.069\n",
            "Epoch: 164 | Train loss: 0.029462216421961784 | Test loss: 0.068\n",
            "Epoch: 165 | Train loss: 0.029121998697519302 | Test loss: 0.067\n",
            "Epoch: 166 | Train loss: 0.02877703867852688 | Test loss: 0.066\n",
            "Epoch: 167 | Train loss: 0.028432995080947876 | Test loss: 0.066\n",
            "Epoch: 168 | Train loss: 0.02809181809425354 | Test loss: 0.065\n",
            "Epoch: 169 | Train loss: 0.02774396538734436 | Test loss: 0.064\n",
            "Epoch: 170 | Train loss: 0.027406616136431694 | Test loss: 0.063\n",
            "Epoch: 171 | Train loss: 0.027057617902755737 | Test loss: 0.062\n",
            "Epoch: 172 | Train loss: 0.026718754321336746 | Test loss: 0.062\n",
            "Epoch: 173 | Train loss: 0.026372412219643593 | Test loss: 0.061\n",
            "Epoch: 174 | Train loss: 0.026029735803604126 | Test loss: 0.060\n",
            "Epoch: 175 | Train loss: 0.025687217712402344 | Test loss: 0.059\n",
            "Epoch: 176 | Train loss: 0.025340724736452103 | Test loss: 0.059\n",
            "Epoch: 177 | Train loss: 0.025002002716064453 | Test loss: 0.058\n",
            "Epoch: 178 | Train loss: 0.024653002619743347 | Test loss: 0.057\n",
            "Epoch: 179 | Train loss: 0.02431550994515419 | Test loss: 0.056\n",
            "Epoch: 180 | Train loss: 0.0239678006619215 | Test loss: 0.055\n",
            "Epoch: 181 | Train loss: 0.02362649515271187 | Test loss: 0.055\n",
            "Epoch: 182 | Train loss: 0.023282594978809357 | Test loss: 0.054\n",
            "Epoch: 183 | Train loss: 0.022937484085559845 | Test loss: 0.053\n",
            "Epoch: 184 | Train loss: 0.02259739115834236 | Test loss: 0.052\n",
            "Epoch: 185 | Train loss: 0.022248463705182076 | Test loss: 0.052\n",
            "Epoch: 186 | Train loss: 0.021912187337875366 | Test loss: 0.051\n",
            "Epoch: 187 | Train loss: 0.02156318724155426 | Test loss: 0.049\n",
            "Epoch: 188 | Train loss: 0.021223250776529312 | Test loss: 0.049\n",
            "Epoch: 189 | Train loss: 0.020877985283732414 | Test loss: 0.048\n",
            "Epoch: 190 | Train loss: 0.020534245297312737 | Test loss: 0.047\n",
            "Epoch: 191 | Train loss: 0.020192785188555717 | Test loss: 0.046\n",
            "Epoch: 192 | Train loss: 0.019845224916934967 | Test loss: 0.046\n",
            "Epoch: 193 | Train loss: 0.019507573917508125 | Test loss: 0.045\n",
            "Epoch: 194 | Train loss: 0.019158583134412766 | Test loss: 0.044\n",
            "Epoch: 195 | Train loss: 0.018820013850927353 | Test loss: 0.043\n",
            "Epoch: 196 | Train loss: 0.018473371863365173 | Test loss: 0.042\n",
            "Epoch: 197 | Train loss: 0.01813100464642048 | Test loss: 0.042\n",
            "Epoch: 198 | Train loss: 0.017788175493478775 | Test loss: 0.041\n",
            "Epoch: 199 | Train loss: 0.01744198612868786 | Test loss: 0.040\n",
            "Epoch: 200 | Train loss: 0.01710296794772148 | Test loss: 0.039\n",
            "Epoch: 201 | Train loss: 0.016753969714045525 | Test loss: 0.038\n",
            "Epoch: 202 | Train loss: 0.016416771337389946 | Test loss: 0.038\n",
            "Epoch: 203 | Train loss: 0.01606876216828823 | Test loss: 0.037\n",
            "Epoch: 204 | Train loss: 0.015727750957012177 | Test loss: 0.036\n",
            "Epoch: 205 | Train loss: 0.015383563935756683 | Test loss: 0.035\n",
            "Epoch: 206 | Train loss: 0.015038748271763325 | Test loss: 0.035\n",
            "Epoch: 207 | Train loss: 0.014698361046612263 | Test loss: 0.034\n",
            "Epoch: 208 | Train loss: 0.014349731616675854 | Test loss: 0.033\n",
            "Epoch: 209 | Train loss: 0.014013159088790417 | Test loss: 0.032\n",
            "Epoch: 210 | Train loss: 0.013664156198501587 | Test loss: 0.031\n",
            "Epoch: 211 | Train loss: 0.013324515894055367 | Test loss: 0.031\n",
            "Epoch: 212 | Train loss: 0.01297894585877657 | Test loss: 0.029\n",
            "Epoch: 213 | Train loss: 0.01263550203293562 | Test loss: 0.029\n",
            "Epoch: 214 | Train loss: 0.012293748557567596 | Test loss: 0.028\n",
            "Epoch: 215 | Train loss: 0.01194649375975132 | Test loss: 0.027\n",
            "Epoch: 216 | Train loss: 0.011608543805778027 | Test loss: 0.026\n",
            "Epoch: 217 | Train loss: 0.011259548366069794 | Test loss: 0.025\n",
            "Epoch: 218 | Train loss: 0.01092127151787281 | Test loss: 0.025\n",
            "Epoch: 219 | Train loss: 0.010574339888989925 | Test loss: 0.024\n",
            "Epoch: 220 | Train loss: 0.010232262313365936 | Test loss: 0.023\n",
            "Epoch: 221 | Train loss: 0.009889140725135803 | Test loss: 0.022\n",
            "Epoch: 222 | Train loss: 0.009543252177536488 | Test loss: 0.022\n",
            "Epoch: 223 | Train loss: 0.009203940629959106 | Test loss: 0.021\n",
            "Epoch: 224 | Train loss: 0.008854934945702553 | Test loss: 0.020\n",
            "Epoch: 225 | Train loss: 0.008518029935657978 | Test loss: 0.019\n",
            "Epoch: 226 | Train loss: 0.008169730193912983 | Test loss: 0.018\n",
            "Epoch: 227 | Train loss: 0.00782901793718338 | Test loss: 0.018\n",
            "Epoch: 228 | Train loss: 0.00748453289270401 | Test loss: 0.017\n",
            "Epoch: 229 | Train loss: 0.007140001747757196 | Test loss: 0.016\n",
            "Epoch: 230 | Train loss: 0.0067993286065757275 | Test loss: 0.015\n",
            "Epoch: 231 | Train loss: 0.0064509897492825985 | Test loss: 0.015\n",
            "Epoch: 232 | Train loss: 0.006114122457802296 | Test loss: 0.014\n",
            "Epoch: 233 | Train loss: 0.005765117704868317 | Test loss: 0.012\n",
            "Epoch: 234 | Train loss: 0.005425776820629835 | Test loss: 0.012\n",
            "Epoch: 235 | Train loss: 0.005079920869320631 | Test loss: 0.011\n",
            "Epoch: 236 | Train loss: 0.004736763425171375 | Test loss: 0.011\n",
            "Epoch: 237 | Train loss: 0.004394714720547199 | Test loss: 0.009\n",
            "Epoch: 238 | Train loss: 0.004047745373100042 | Test loss: 0.009\n",
            "Epoch: 239 | Train loss: 0.003709511598572135 | Test loss: 0.008\n",
            "Epoch: 240 | Train loss: 0.003360512899234891 | Test loss: 0.007\n",
            "Epoch: 241 | Train loss: 0.0030225396621972322 | Test loss: 0.006\n",
            "Epoch: 242 | Train loss: 0.0026753039564937353 | Test loss: 0.005\n",
            "Epoch: 243 | Train loss: 0.0023335188161581755 | Test loss: 0.005\n",
            "Epoch: 244 | Train loss: 0.0019901038613170385 | Test loss: 0.004\n",
            "Epoch: 245 | Train loss: 0.0016445100773125887 | Test loss: 0.003\n",
            "Epoch: 246 | Train loss: 0.0013116479385644197 | Test loss: 0.001\n",
            "Epoch: 247 | Train loss: 0.0013472021091729403 | Test loss: 0.010\n",
            "Epoch: 248 | Train loss: 0.007012799382209778 | Test loss: 0.003\n",
            "Epoch: 249 | Train loss: 0.004508179612457752 | Test loss: 0.010\n",
            "Epoch: 250 | Train loss: 0.007012799382209778 | Test loss: 0.003\n",
            "Epoch: 251 | Train loss: 0.004508179612457752 | Test loss: 0.010\n",
            "Epoch: 252 | Train loss: 0.007012799382209778 | Test loss: 0.003\n",
            "Epoch: 253 | Train loss: 0.004508179612457752 | Test loss: 0.010\n",
            "Epoch: 254 | Train loss: 0.007012799382209778 | Test loss: 0.003\n",
            "Epoch: 255 | Train loss: 0.004508179612457752 | Test loss: 0.010\n",
            "Epoch: 256 | Train loss: 0.007012799382209778 | Test loss: 0.003\n",
            "Epoch: 257 | Train loss: 0.004508179612457752 | Test loss: 0.010\n",
            "Epoch: 258 | Train loss: 0.007012799382209778 | Test loss: 0.003\n",
            "Epoch: 259 | Train loss: 0.004508179612457752 | Test loss: 0.010\n",
            "Epoch: 260 | Train loss: 0.007012799382209778 | Test loss: 0.003\n",
            "Epoch: 261 | Train loss: 0.004508179612457752 | Test loss: 0.010\n",
            "Epoch: 262 | Train loss: 0.007012799382209778 | Test loss: 0.003\n",
            "Epoch: 263 | Train loss: 0.004508179612457752 | Test loss: 0.010\n",
            "Epoch: 264 | Train loss: 0.007012799382209778 | Test loss: 0.003\n",
            "Epoch: 265 | Train loss: 0.004508179612457752 | Test loss: 0.010\n",
            "Epoch: 266 | Train loss: 0.007012799382209778 | Test loss: 0.003\n",
            "Epoch: 267 | Train loss: 0.004508179612457752 | Test loss: 0.010\n",
            "Epoch: 268 | Train loss: 0.007012799382209778 | Test loss: 0.003\n",
            "Epoch: 269 | Train loss: 0.004508179612457752 | Test loss: 0.010\n",
            "Epoch: 270 | Train loss: 0.007012799382209778 | Test loss: 0.003\n",
            "Epoch: 271 | Train loss: 0.004508179612457752 | Test loss: 0.010\n",
            "Epoch: 272 | Train loss: 0.007012799382209778 | Test loss: 0.003\n",
            "Epoch: 273 | Train loss: 0.004508179612457752 | Test loss: 0.010\n",
            "Epoch: 274 | Train loss: 0.007012799382209778 | Test loss: 0.003\n",
            "Epoch: 275 | Train loss: 0.004508179612457752 | Test loss: 0.010\n",
            "Epoch: 276 | Train loss: 0.007012799382209778 | Test loss: 0.003\n",
            "Epoch: 277 | Train loss: 0.004508179612457752 | Test loss: 0.010\n",
            "Epoch: 278 | Train loss: 0.007012799382209778 | Test loss: 0.003\n",
            "Epoch: 279 | Train loss: 0.004508179612457752 | Test loss: 0.010\n",
            "Epoch: 280 | Train loss: 0.007012799382209778 | Test loss: 0.003\n",
            "Epoch: 281 | Train loss: 0.004508179612457752 | Test loss: 0.010\n",
            "Epoch: 282 | Train loss: 0.007012799382209778 | Test loss: 0.003\n",
            "Epoch: 283 | Train loss: 0.004508179612457752 | Test loss: 0.010\n",
            "Epoch: 284 | Train loss: 0.007012799382209778 | Test loss: 0.003\n",
            "Epoch: 285 | Train loss: 0.004508179612457752 | Test loss: 0.010\n",
            "Epoch: 286 | Train loss: 0.007012799382209778 | Test loss: 0.003\n",
            "Epoch: 287 | Train loss: 0.004508179612457752 | Test loss: 0.010\n",
            "Epoch: 288 | Train loss: 0.007012799382209778 | Test loss: 0.003\n",
            "Epoch: 289 | Train loss: 0.004508179612457752 | Test loss: 0.010\n",
            "Epoch: 290 | Train loss: 0.007012799382209778 | Test loss: 0.003\n",
            "Epoch: 291 | Train loss: 0.004508179612457752 | Test loss: 0.010\n",
            "Epoch: 292 | Train loss: 0.007012799382209778 | Test loss: 0.003\n",
            "Epoch: 293 | Train loss: 0.004508179612457752 | Test loss: 0.010\n",
            "Epoch: 294 | Train loss: 0.007012799382209778 | Test loss: 0.003\n",
            "Epoch: 295 | Train loss: 0.004508179612457752 | Test loss: 0.010\n",
            "Epoch: 296 | Train loss: 0.007012799382209778 | Test loss: 0.003\n",
            "Epoch: 297 | Train loss: 0.004508179612457752 | Test loss: 0.010\n",
            "Epoch: 298 | Train loss: 0.007012799382209778 | Test loss: 0.003\n",
            "Epoch: 299 | Train loss: 0.004508179612457752 | Test loss: 0.010\n"
          ]
        }
      ]
    },
    {
      "cell_type": "code",
      "source": [
        "# Find our model's learned parameters\n",
        "from pprint import pprint\n",
        "print(\"The model learned the following values for weights and bias:\")\n",
        "pprint(model_1.state_dict())\n",
        "print(\"\\nAnd the original values for weights and bias are:\")\n",
        "print(f\"weights: {weight}, bias: {bias}\")"
      ],
      "metadata": {
        "colab": {
          "base_uri": "https://localhost:8080/"
        },
        "id": "rWyih_eI9lH0",
        "outputId": "e7a62aee-6ac5-4f2e-dd52-fadaa26f3b72"
      },
      "execution_count": 16,
      "outputs": [
        {
          "output_type": "stream",
          "name": "stdout",
          "text": [
            "The model learned the following values for weights and bias:\n",
            "OrderedDict([('linear_layer.weight', tensor([[0.3064]], device='cuda:0')),\n",
            "             ('linear_layer.bias', tensor([0.9045], device='cuda:0'))])\n",
            "\n",
            "And the original values for weights and bias are:\n",
            "weights: 0.3, bias: 0.9\n"
          ]
        }
      ]
    },
    {
      "cell_type": "markdown",
      "source": [
        "## 4. Make predictions with the trained model on the test data.\n",
        "  * Visualize these predictions against the original training and testing data (**note:** you may need to make sure the predictions are *not* on the GPU if you want to use non-CUDA-enabled libraries such as matplotlib to plot)."
      ],
      "metadata": {
        "id": "x4j4TM18jwa7"
      }
    },
    {
      "cell_type": "code",
      "source": [
        "# Make predictions with the model\n",
        "model_1.eval()\n",
        "with torch.inference_mode():\n",
        "  y_preds = model_1(X_test)"
      ],
      "metadata": {
        "id": "bbMPK5Qjjyx_"
      },
      "execution_count": 14,
      "outputs": []
    },
    {
      "cell_type": "code",
      "source": [
        "# Plot the predictions (these may need to be on a specific device)\n",
        "plot_predictions(predictions=y_preds.cpu())"
      ],
      "metadata": {
        "id": "K3BdmQaDpFo8",
        "colab": {
          "base_uri": "https://localhost:8080/",
          "height": 599
        },
        "outputId": "140244db-3a64-444a-8e41-1d850fd97bdf"
      },
      "execution_count": 15,
      "outputs": [
        {
          "output_type": "display_data",
          "data": {
            "text/plain": [
              "<Figure size 1000x700 with 1 Axes>"
            ],
            "image/png": "[encoded data removed]"
          },
          "metadata": {}
        }
      ]
    },
    {
      "cell_type": "markdown",
      "source": [
        "## 5. Save your trained model's `state_dict()` to file.\n",
        "  * Create a new instance of your model class you made in 2. and load in the `state_dict()` you just saved to it.\n",
        "  * Perform predictions on your test data with the loaded model and confirm they match the original model predictions from 4."
      ],
      "metadata": {
        "id": "s2OnlMWKjzX8"
      }
    },
    {
      "cell_type": "code",
      "source": [
        "from pathlib import Path\n",
        "\n",
        "# 1. Create models directory\n",
        "MODEL_PATH = Path(\"models\")\n",
        "MODEL_PATH.mkdir(parents=True, exist_ok=True)\n",
        "\n",
        "# 2. Create model save path\n",
        "MODEL_NAME = \"pytorch_linear_regression_model.pth\"\n",
        "MODEL_SAVE_PATH = MODEL_PATH / MODEL_NAME\n",
        "\n",
        "\n",
        "# 2. Create model save path\n",
        "torch.save(obj=model_1.state_dict(),\n",
        "           f=MODEL_SAVE_PATH)\n",
        "\n",
        "# 3. Save the model state dict\n",
        "print(f\"Model saved to: {MODEL_SAVE_PATH}\")\n"
      ],
      "metadata": {
        "id": "hgxhgD14qr-i",
        "colab": {
          "base_uri": "https://localhost:8080/"
        },
        "outputId": "2583f61e-c0bd-4e29-ac19-1522b1e3abe9"
      },
      "execution_count": 17,
      "outputs": [
        {
          "output_type": "stream",
          "name": "stdout",
          "text": [
            "Model saved to: models/pytorch_linear_regression_model.pth\n"
          ]
        }
      ]
    },
    {
      "cell_type": "code",
      "source": [
        "# Create new instance of model and load saved state dict (make sure to put it on the target device)\n",
        "loaded_model_1 = LinearRegressionModelV2()\n",
        "loaded_model_1.load_state_dict(torch.load(f=MODEL_SAVE_PATH))\n",
        "loaded_model_1.to(device)\n",
        "\n",
        "print(f\"Loaded model:\\n{loaded_model_1}\")\n",
        "print(f\"Model on device:\\n{next(loaded_model_1.parameters()).device}\")"
      ],
      "metadata": {
        "id": "P9vTgiLRrJ7T",
        "colab": {
          "base_uri": "https://localhost:8080/"
        },
        "outputId": "7fde64da-f0f8-4dad-9ec0-c77c6fcc2caa"
      },
      "execution_count": 18,
      "outputs": [
        {
          "output_type": "stream",
          "name": "stdout",
          "text": [
            "Loaded model:\n",
            "LinearRegressionModelV2(\n",
            "  (linear_layer): Linear(in_features=1, out_features=1, bias=True)\n",
            ")\n",
            "Model on device:\n",
            "cuda:0\n"
          ]
        }
      ]
    },
    {
      "cell_type": "code",
      "source": [
        "# Make predictions with loaded model and compare them to the previous\n",
        "loaded_model_1.eval()\n",
        "with torch.inference_mode():\n",
        "    loaded_model_1_preds = loaded_model_1(X_test)\n",
        "y_preds == loaded_model_1_preds"
      ],
      "metadata": {
        "id": "8UGX3VebrVtI",
        "colab": {
          "base_uri": "https://localhost:8080/"
        },
        "outputId": "81f9915c-cee2-456f-cb26-4323bc264ce0"
      },
      "execution_count": 21,
      "outputs": [
        {
          "output_type": "execute_result",
          "data": {
            "text/plain": [
              "tensor([[True],\n",
              "        [True],\n",
              "        [True],\n",
              "        [True],\n",
              "        [True],\n",
              "        [True],\n",
              "        [True],\n",
              "        [True],\n",
              "        [True],\n",
              "        [True]], device='cuda:0')"
            ]
          },
          "metadata": {},
          "execution_count": 21
        }
      ]
    }
  ]
}